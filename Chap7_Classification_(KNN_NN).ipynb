{
  "nbformat": 4,
  "nbformat_minor": 0,
  "metadata": {
    "colab": {
      "name": "Chap7 Classification (KNN-NN).ipynb",
      "provenance": [],
      "authorship_tag": "ABX9TyObpPt5eAD3Sk2To/4Hr7mx",
      "include_colab_link": true
    },
    "kernelspec": {
      "name": "python3",
      "display_name": "Python 3"
    },
    "language_info": {
      "name": "python"
    }
  },
  "cells": [
    {
      "cell_type": "markdown",
      "metadata": {
        "id": "view-in-github",
        "colab_type": "text"
      },
      "source": [
        "<a href=\"https://colab.research.google.com/github/siriwat-heart/DWDM21/blob/main/Chap7_Classification_(KNN_NN).ipynb\" target=\"_parent\"><img src=\"https://colab.research.google.com/assets/colab-badge.svg\" alt=\"Open In Colab\"/></a>"
      ]
    },
    {
      "cell_type": "markdown",
      "metadata": {
        "id": "9OAI0I4ZscjF"
      },
      "source": [
        "## Load data"
      ]
    },
    {
      "cell_type": "code",
      "metadata": {
        "id": "e1E3hQ0rsW9_"
      },
      "source": [
        "from sklearn import datasets\n",
        "\n",
        "digit_data = datasets.load_digits()\n",
        "\n",
        "X = digit_data['data']\n",
        "y = digit_data['target']"
      ],
      "execution_count": null,
      "outputs": []
    },
    {
      "cell_type": "markdown",
      "metadata": {
        "id": "31s4G8WdsiUq"
      },
      "source": [
        "## Split Data"
      ]
    },
    {
      "cell_type": "code",
      "metadata": {
        "id": "yFu3xVcAsf4y"
      },
      "source": [
        "from sklearn.model_selection import train_test_split\n",
        "\n",
        "# train-test\n",
        "X_train, X_test, y_train, y_test = train_test_split(X, y, test_size=0.5, random_state=6)\n",
        "\n",
        "# train-validation\n",
        "X_train2, X_val, y_train2, y_val = train_test_split(X_train, y_train, test_size=0.3, random_state=6)"
      ],
      "execution_count": null,
      "outputs": []
    },
    {
      "cell_type": "markdown",
      "metadata": {
        "id": "UE6f9X3fsnMx"
      },
      "source": [
        "## Train Model"
      ]
    },
    {
      "cell_type": "markdown",
      "metadata": {
        "id": "VISlcMc7sp-6"
      },
      "source": [
        "### Import"
      ]
    },
    {
      "cell_type": "code",
      "metadata": {
        "id": "vWqs7fu-skf2"
      },
      "source": [
        "from sklearn.neighbors import KNeighborsClassifier\n",
        "from sklearn.metrics import accuracy_score"
      ],
      "execution_count": null,
      "outputs": []
    },
    {
      "cell_type": "markdown",
      "metadata": {
        "id": "s-ttQBDKsvFw"
      },
      "source": [
        "### knn1"
      ]
    },
    {
      "cell_type": "code",
      "metadata": {
        "colab": {
          "base_uri": "https://localhost:8080/"
        },
        "id": "0PAakxj3ssG-",
        "outputId": "aba92a67-fcc5-4ca0-dd3a-9c77041e1d06"
      },
      "source": [
        "# Define\n",
        "neigh1 = KNeighborsClassifier(n_neighbors=3, weights='uniform') #ถามเพื่อนบ้านที่ใกล้สุด 3 คน และเชื่อทุกๆคนเท่ากัน\n",
        "# Train\n",
        "neigh1.fit(X_train2,y_train2)\n",
        "# Test\n",
        "knn1_result = neigh1.predict(X_val)\n",
        "accuracy_score(y_val, knn1_result)"
      ],
      "execution_count": null,
      "outputs": [
        {
          "output_type": "execute_result",
          "data": {
            "text/plain": [
              "0.9703703703703703"
            ]
          },
          "metadata": {},
          "execution_count": 4
        }
      ]
    },
    {
      "cell_type": "markdown",
      "metadata": {
        "id": "8rJP1XO6s1DA"
      },
      "source": [
        "### knn2"
      ]
    },
    {
      "cell_type": "code",
      "metadata": {
        "colab": {
          "base_uri": "https://localhost:8080/"
        },
        "id": "ymT4l30-sxdM",
        "outputId": "ce7c4330-5b85-47d4-d3db-3b6bd7679932"
      },
      "source": [
        "# Define\n",
        "neigh2 = KNeighborsClassifier(n_neighbors=10, weights='distance') #ถามเพื่อนบ้านที่ใกล้สุด 10 คน และเชื่อคนที่อยู่ใกล้มากกว่าไกล\n",
        "# Train\n",
        "neigh2.fit(X_train2,y_train2)\n",
        "# Test\n",
        "knn2_result = neigh2.predict(X_val)\n",
        "accuracy_score(y_val, knn2_result)"
      ],
      "execution_count": null,
      "outputs": [
        {
          "output_type": "execute_result",
          "data": {
            "text/plain": [
              "0.9703703703703703"
            ]
          },
          "metadata": {},
          "execution_count": 5
        }
      ]
    },
    {
      "cell_type": "markdown",
      "metadata": {
        "id": "sfYykGfis6XI"
      },
      "source": [
        "### knn3"
      ]
    },
    {
      "cell_type": "code",
      "metadata": {
        "id": "gbHFv_lIs3ul"
      },
      "source": [
        "# Define\n",
        "neigh3 = KNeighborsClassifier(n_neighbors=1) #เชื่อเพื่อนบ้านที่ใกล้ที่สุดคนเดียว\n",
        "# Train\n",
        "neigh3.fit(X_train2,y_train2)\n",
        "# Test\n",
        "knn3_result = neigh3.predict(X_val)"
      ],
      "execution_count": null,
      "outputs": []
    },
    {
      "cell_type": "markdown",
      "metadata": {
        "id": "ExGMmuUVs_GI"
      },
      "source": [
        "## Retrain & Evaluate"
      ]
    },
    {
      "cell_type": "code",
      "metadata": {
        "colab": {
          "base_uri": "https://localhost:8080/"
        },
        "id": "dp8wachys8OV",
        "outputId": "eadea002-0e69-40da-8207-855202b765dc"
      },
      "source": [
        "# Define\n",
        "neigh3_final = KNeighborsClassifier(n_neighbors=1)\n",
        "# Train\n",
        "neigh3_final.fit(X_train,y_train)\n",
        "# Evaluation\n",
        "knn3final_result = neigh3_final.predict(X_test)\n",
        "accuracy_score(y_test, knn3final_result)"
      ],
      "execution_count": null,
      "outputs": [
        {
          "output_type": "execute_result",
          "data": {
            "text/plain": [
              "0.982202447163515"
            ]
          },
          "metadata": {},
          "execution_count": 7
        }
      ]
    },
    {
      "cell_type": "markdown",
      "metadata": {
        "id": "d8fa4nLrtD94"
      },
      "source": [
        "# Neural Network"
      ]
    },
    {
      "cell_type": "markdown",
      "metadata": {
        "id": "g7UfqnLntGsR"
      },
      "source": [
        "### Import"
      ]
    },
    {
      "cell_type": "code",
      "metadata": {
        "id": "8cF8Jk6btBOW"
      },
      "source": [
        "from sklearn.neural_network import MLPClassifier"
      ],
      "execution_count": null,
      "outputs": []
    },
    {
      "cell_type": "markdown",
      "metadata": {
        "id": "roKCg18ytLuB"
      },
      "source": [
        "### Define"
      ]
    },
    {
      "cell_type": "code",
      "metadata": {
        "id": "BhpK-cPBtI8E"
      },
      "source": [
        "perceptron1 = MLPClassifier(random_state=6, max_iter=2000, hidden_layer_sizes=1,learning_rate_init=0.005)"
      ],
      "execution_count": null,
      "outputs": []
    },
    {
      "cell_type": "markdown",
      "metadata": {
        "id": "gOPJhLfmtSlh"
      },
      "source": [
        "### Train - Test"
      ]
    },
    {
      "cell_type": "code",
      "metadata": {
        "colab": {
          "base_uri": "https://localhost:8080/"
        },
        "id": "LgzYfS2FtOlX",
        "outputId": "3b276313-3e82-4543-9aa5-dcb06a7b40b8"
      },
      "source": [
        "# Train\n",
        "perceptron1.fit(X_train2,y_train2)\n",
        "# Test\n",
        "ann1_result = perceptron1.predict(X_val)\n",
        "accuracy_score(y_val, ann1_result)"
      ],
      "execution_count": null,
      "outputs": [
        {
          "output_type": "execute_result",
          "data": {
            "text/plain": [
              "0.2777777777777778"
            ]
          },
          "metadata": {},
          "execution_count": 10
        }
      ]
    },
    {
      "cell_type": "markdown",
      "metadata": {
        "id": "T21jddqotXsZ"
      },
      "source": [
        "## ANN 2"
      ]
    },
    {
      "cell_type": "code",
      "metadata": {
        "colab": {
          "base_uri": "https://localhost:8080/"
        },
        "id": "QpqB9YLptU-Y",
        "outputId": "650093bc-03c3-4761-a49d-7a98cf3d3952"
      },
      "source": [
        "perceptron2 = MLPClassifier(random_state=6, max_iter=2000, hidden_layer_sizes=10,learning_rate_init=0.005)\n",
        "# Train\n",
        "perceptron2.fit(X_train2,y_train2)\n",
        "# Test\n",
        "ann2_result = perceptron2.predict(X_val)\n",
        "accuracy_score(y_val, ann2_result)"
      ],
      "execution_count": null,
      "outputs": [
        {
          "output_type": "execute_result",
          "data": {
            "text/plain": [
              "0.9185185185185185"
            ]
          },
          "metadata": {},
          "execution_count": 11
        }
      ]
    },
    {
      "cell_type": "markdown",
      "metadata": {
        "id": "WEsNfO8Fti8o"
      },
      "source": [
        "## ANN 3"
      ]
    },
    {
      "cell_type": "code",
      "metadata": {
        "colab": {
          "base_uri": "https://localhost:8080/"
        },
        "id": "xcueeZtRtZ79",
        "outputId": "191fe3c3-52c1-45a8-d5bf-969c091c3c2a"
      },
      "source": [
        "perceptron3 = MLPClassifier(random_state=6, max_iter=20000, hidden_layer_sizes=10,learning_rate_init=0.001)\n",
        "# Train\n",
        "perceptron3.fit(X_train2,y_train2)\n",
        "# Test\n",
        "ann3_result = perceptron3.predict(X_val)\n",
        "accuracy_score(y_val, ann3_result)"
      ],
      "execution_count": null,
      "outputs": [
        {
          "output_type": "execute_result",
          "data": {
            "text/plain": [
              "0.9444444444444444"
            ]
          },
          "metadata": {},
          "execution_count": 12
        }
      ]
    },
    {
      "cell_type": "code",
      "metadata": {
        "id": "QtGkNk3rtmDI"
      },
      "source": [
        ""
      ],
      "execution_count": null,
      "outputs": []
    }
  ]
}