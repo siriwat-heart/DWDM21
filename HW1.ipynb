{
  "nbformat": 4,
  "nbformat_minor": 0,
  "metadata": {
    "colab": {
      "name": "HW1.ipynb",
      "provenance": [],
      "authorship_tag": "ABX9TyMeP6gDuqrg4ovcXWOLDSQM",
      "include_colab_link": true
    },
    "kernelspec": {
      "name": "python3",
      "display_name": "Python 3"
    },
    "language_info": {
      "name": "python"
    }
  },
  "cells": [
    {
      "cell_type": "markdown",
      "metadata": {
        "id": "view-in-github",
        "colab_type": "text"
      },
      "source": [
        "<a href=\"https://colab.research.google.com/github/siriwat-heart/DWDM21/blob/main/HW1.ipynb\" target=\"_parent\"><img src=\"https://colab.research.google.com/assets/colab-badge.svg\" alt=\"Open In Colab\"/></a>"
      ]
    },
    {
      "cell_type": "markdown",
      "metadata": {
        "id": "hYcYxW0dbp2c"
      },
      "source": [
        "## สรุปเนื้อหาที่เรียนในคาบที่ 1"
      ]
    },
    {
      "cell_type": "markdown",
      "metadata": {
        "id": "J9XPzMHjcC59"
      },
      "source": [
        "1. ตกลงเกณฑ์การให้คะเเนน\n",
        "    - Project Presentation 30%\n",
        "    - Programming assignments 40%\n",
        "    - Final exam 30%"
      ]
    },
    {
      "cell_type": "markdown",
      "metadata": {
        "id": "ZiSkdxwycehq"
      },
      "source": [
        "2. ดาวน์โหลดเอกสารประกอบการเรียน Data Warehouse and Data mining"
      ]
    },
    {
      "cell_type": "markdown",
      "metadata": {
        "id": "GJQGOLqic0OW"
      },
      "source": [
        "3. จับกลุ่ม กลุ่มละ 5 คน เเล้วลงชื่อกลุ่มใน Excel"
      ]
    },
    {
      "cell_type": "markdown",
      "metadata": {
        "id": "_eMaseUHdDJu"
      },
      "source": [
        "##สรุปเนื้อหาบทที่ 1"
      ]
    },
    {
      "cell_type": "markdown",
      "metadata": {
        "id": "3WfhDrAFdUOm"
      },
      "source": [
        "Data mining คือ การวิเคราะห์ข้อมูลจากข้อมูลจำนวนมาก (big data) เพื่อหาความสัมพันธ์ของข้อมูลที่ซ่อนอยู่ \n",
        "โดยทำการจำแนกประเภท รูปแบบ เชื่อมโยงข้อมูลที่มีความสัมพันธ์กัน และหาความน่าจะเป็นที่จะเกิดขึ้น เพื่อให้ได้องค์ความรู้ใหม่ ที่สามารถนำไปใช้ประกอบการตัดสินใจในด้านต่างๆได้\n"
      ]
    },
    {
      "cell_type": "markdown",
      "metadata": {
        "id": "Bj4fujZBdymV"
      },
      "source": [
        "ประกอบไปด้วยขั้นตอนต่างๆดังนี้\n",
        "  \n",
        "  - Data Cleaning การคัดข้อมูลที่ไม่เกี่ยวข้องออกไป\n",
        "  - Data Integration การรวมข้อมูลที่มีหลายแหล่งให้เป็นข้อมูลชุดเดียวกัน\n",
        "  - Data Selection การดึงข้อมูลสำหรับการวิเคราะห์จากแหล่งที่บันทึกไว้\n",
        "  - Data Transformation  การแปลงข้อมูลให้เหมาะสมสำหรับการใช้งาน\n",
        "  - Data Mining  การค้นหารูปแบบที่เป็นประโยชน์จากข้อมูลที่มีอยู่\n",
        "  - Pattern Evaluation  การประเมินรูปแบบที่ได้จากการทำเหมืองข้อมูล\n",
        "  - Knowledge Representation การนำเสนอความรู้ที่ค้นพบ โดยใช้เทคนิคในการนำเสนอเพื่อให้เข้าใจ"
      ]
    },
    {
      "cell_type": "markdown",
      "metadata": {
        "id": "UA5zIBiwe9FU"
      },
      "source": [
        "knowledge discovery (kdd) process \n",
        "\n",
        "กระบวนการของ  Data Mining (A KDD Process เป็นกระบวนการในการค้นหาลักษณะแฝงของข้อมูล (Pattern)  ที่ซ่อนอยู่ในฐานข้อมูล\n",
        "\n",
        "\n",
        "\n"
      ]
    },
    {
      "cell_type": "markdown",
      "metadata": {
        "id": "9AzZkzg5kqUg"
      },
      "source": [
        "Multi-Dimensional View of Data Mining (มุมมองหลายมิติของการทำเหมืองข้อมูล)\n",
        "- Data to be mined ข้อมูลที่จะขุด\n",
        "- Knowledge to be mined ความรู้ที่จะขุด\n",
        "- Techniques utilized เทคนิคที่ใช้\n",
        "- Applications adapted การดัดเเปลง"
      ]
    },
    {
      "cell_type": "code",
      "metadata": {
        "id": "7nDXkqfTZUGg"
      },
      "source": [
        ""
      ],
      "execution_count": null,
      "outputs": []
    }
  ]
}